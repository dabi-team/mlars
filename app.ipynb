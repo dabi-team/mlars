{
 "cells": [
  {
   "cell_type": "code",
   "execution_count": 1,
   "metadata": {},
   "outputs": [
    {
     "name": "stdout",
     "output_type": "stream",
     "text": [
      "sumary_line\n"
     ]
    }
   ],
   "source": [
    "print(\"\"\"sumary_line\"\"\")"
   ]
  },
  {
   "cell_type": "code",
   "execution_count": null,
   "metadata": {},
   "outputs": [],
   "source": [
    "df = clearData(df)\n",
    "    unique = df[name].unique()\n",
    "    data = getData(df, name, unique)\n",
    "    bestaverge = 0\n",
    "    bestmodel = None\n",
    "    bestmodelname = None\n",
    "    dict = {\"Name\": [], \"Params\": [], \"Accuracy\": [],\n",
    "            \"Precision\": [], \"Recall\": [], \"F1\": [], \"Average\": []}\n",
    "    resultdf = pd.DataFrame(dict)\n",
    "    accuracy = 0\n",
    "    precision = 0\n",
    "    recall = 0\n",
    "    f1 = 0\n",
    "    average = 0\n",
    "    for item in models:\n",
    "        for param in item[2][0]:\n",
    "            try:\n",
    "                model, accuracy, precision, recall, f1, average = try_model(\n",
    "                    item[0],\n",
    "                    data[0], data[2], item[1], data[1], data[3], param)\n",
    "                if average*100 >= min:\n",
    "                    bestmodelname = item[0]\n",
    "                    bestaverge = average\n",
    "                    print(Fore.YELLOW + \"done\")\n",
    "                    print(\n",
    "                        Fore.GREEN + \"best model is : {} ,with accuracy  {}\".format(bestmodelname, bestaverge))\n",
    "                    bestmodel = model\n",
    "                    return bestmodel\n",
    "                if average > bestaverge:\n",
    "                    bestaverge = average\n",
    "                    bestmodelname = item[0]\n",
    "                    bestmodel = model\n",
    "            except:\n",
    "                print(Fore.BLUE + \"This Algorithm is not supported\")\n",
    "\n",
    "            resultdf.loc[-1] = [item[0], param, accuracy,\n",
    "                                precision, recall, f1,  average]\n",
    "            resultdf.index = resultdf.index + 1  # shifting index\n",
    "            resultdf = resultdf.sort_index()\n",
    "    print(Fore.YELLOW + \"done\")\n",
    "    print(Fore.GREEN + \"best model is : {} ,with accuracy  {}\".format(bestmodelname, bestaverge))\n",
    "    print(resultdf)\n",
    "    return resultdf"
   ]
  },
  {
   "cell_type": "code",
   "execution_count": null,
   "metadata": {},
   "outputs": [],
   "source": []
  }
 ],
 "metadata": {
  "kernelspec": {
   "display_name": "Python 3.10.3 64-bit",
   "language": "python",
   "name": "python3"
  },
  "language_info": {
   "codemirror_mode": {
    "name": "ipython",
    "version": 3
   },
   "file_extension": ".py",
   "mimetype": "text/x-python",
   "name": "python",
   "nbconvert_exporter": "python",
   "pygments_lexer": "ipython3",
   "version": "3.10.3"
  },
  "orig_nbformat": 4,
  "vscode": {
   "interpreter": {
    "hash": "096d9322c244332c6e0de16f0fbcd5a2bce9b59f3c3676a835d935953dcf2257"
   }
  }
 },
 "nbformat": 4,
 "nbformat_minor": 2
}
